{
 "metadata": {
  "language_info": {
   "codemirror_mode": {
    "name": "ipython",
    "version": 3
   },
   "file_extension": ".py",
   "mimetype": "text/x-python",
   "name": "python",
   "nbconvert_exporter": "python",
   "pygments_lexer": "ipython3",
   "version": "3.7.3"
  },
  "orig_nbformat": 2,
  "kernelspec": {
   "name": "python373jvsc74a57bd014ea72af40ee9339d6f8ad15aef067494a451ba105d6a0c8fbc9d65e956b1bca",
   "display_name": "Python 3.7.3 64-bit ('base': conda)"
  }
 },
 "nbformat": 4,
 "nbformat_minor": 2,
 "cells": [
  {
   "cell_type": "code",
   "execution_count": 1,
   "metadata": {},
   "outputs": [
    {
     "output_type": "execute_result",
     "data": {
      "text/plain": [
       "['while', '(', 'x', '<', 'y', ')', '{', 'while', '}']"
      ]
     },
     "metadata": {},
     "execution_count": 1
    }
   ],
   "source": [
    "tokens = \"while, (, x, <, y, ), {, while, }\"\n",
    "arr_tokens = tokens.split(', ')\n",
    "arr_tokens"
   ]
  },
  {
   "cell_type": "code",
   "execution_count": 2,
   "metadata": {},
   "outputs": [
    {
     "output_type": "stream",
     "name": "stdout",
     "text": [
      "while\n(\nx\n<\ny\n)\n{\nwhile\n}\n"
     ]
    }
   ],
   "source": [
    "dict_tokens = {}\n",
    "for token in arr_tokens:\n",
    "    print(token)\n",
    "    if token in dict_tokens:\n",
    "        dict_tokens[token] += 1\n",
    "    else:\n",
    "        dict_tokens[token] = 1"
   ]
  },
  {
   "cell_type": "code",
   "execution_count": 43,
   "metadata": {},
   "outputs": [],
   "source": []
  },
  {
   "cell_type": "code",
   "execution_count": 3,
   "metadata": {},
   "outputs": [],
   "source": [
    "whiles = 0\n",
    "whiles = dict_tokens['while']\n",
    "\n",
    "var_names = 'abcdefghijklmnñopqrstuvwxyz'\n",
    "variables = []\n",
    "variables_count = 0\n",
    "for letter in var_names:\n",
    "    if letter in dict_tokens:\n",
    "        variables.append(letter)\n",
    "        variables_count += 1\n",
    "\n",
    "operadores = 0\n",
    "if '>' in dict_tokens:\n",
    "    operadores += dict_tokens['>']\n",
    "if '<' in dict_tokens:\n",
    "    operadores += dict_tokens['<']\n",
    "if '==' in dict_tokens:\n",
    "    operadores += dict_tokens['==']"
   ]
  },
  {
   "cell_type": "code",
   "execution_count": 4,
   "metadata": {},
   "outputs": [
    {
     "output_type": "stream",
     "name": "stdout",
     "text": [
      "Número total de whiles:  2\n\nNúmero total de variables:  2\n\tVariables:  ['x', 'y']\n\nNúmero total de operadores:  1\n"
     ]
    }
   ],
   "source": [
    "print(\"Número total de whiles: \", whiles)\n",
    "print(\"\\nNúmero total de variables: \", variables_count)\n",
    "print(\"\\tVariables: \", variables)\n",
    "print(\"\\nNúmero total de operadores: \", operadores)"
   ]
  }
 ]
}